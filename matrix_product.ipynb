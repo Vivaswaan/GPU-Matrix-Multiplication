{
  "nbformat": 4,
  "nbformat_minor": 0,
  "metadata": {
    "colab": {
      "provenance": [],
      "gpuType": "T4"
    },
    "kernelspec": {
      "name": "python3",
      "display_name": "Python 3"
    },
    "language_info": {
      "name": "python"
    },
    "accelerator": "GPU"
  },
  "cells": [
    {
      "cell_type": "code",
      "execution_count": 4,
      "metadata": {
        "colab": {
          "base_uri": "https://localhost:8080/"
        },
        "id": "2bN9xpkQGZ68",
        "outputId": "f327c1df-cadc-4229-d955-f42d4e017fe7"
      },
      "outputs": [
        {
          "output_type": "stream",
          "name": "stdout",
          "text": [
            "Writing matrixMul.cu\n"
          ]
        }
      ],
      "source": [
        "%%writefile matrixMul.cu\n",
        "\n",
        "#include <stdio.h>\n",
        "#include <cstdlib>\n",
        "\n",
        "#define N 64 // Size of the square matrices\n",
        "\n",
        "\n",
        "__global__ void matrixMultiplication(int *A, int *B, int *C) {\n",
        "    int row = blockIdx.y * blockDim.y + threadIdx.y;\n",
        "    int col = blockIdx.x * blockDim.x + threadIdx.x;\n",
        "\n",
        "    if (row < N && col < N) {\n",
        "        int sum = 0;\n",
        "        for (int k = 0; k < N; ++k) {\n",
        "            sum += A[row * N + k] * B[k * N + col];\n",
        "        }\n",
        "        C[row * N + col] = sum;\n",
        "    }\n",
        "}\n",
        "\n",
        "int main() {\n",
        "    int *A, *B, *C;\n",
        "    int *d_A, *d_B, *d_C;\n",
        "    size_t size = N * N * sizeof(int);\n",
        "    cudaError_t cudaStatus;\n",
        "\n",
        "    A = (int*)malloc(size);\n",
        "    B = (int*)malloc(size);\n",
        "    C = (int*)malloc(size);\n",
        "\n",
        "    for (int i = 0; i < N ; ++i) {\n",
        "      for(int j=0;j<N;j++){\n",
        "        A[i*N+j] = rand()%10;\n",
        "        B[i*N+j] = rand()%10;\n",
        "    }\n",
        "    }\n",
        "\n",
        "\n",
        "    // Allocate memory for matrices A, B, and C on the device\n",
        "    cudaMalloc(&d_A, size);\n",
        "    cudaMalloc(&d_B, size);\n",
        "    cudaMalloc(&d_C, size);\n",
        "\n",
        "\n",
        "    // Copy matrices A and B from host to device\n",
        "    cudaMemcpy(d_A, A, size, cudaMemcpyHostToDevice);\n",
        "    cudaMemcpy(d_B, B, size, cudaMemcpyHostToDevice);\n",
        "\n",
        "    // Define grid and block dimensions\n",
        "    dim3 blockDim(16, 16); // For simplicity, using fixed block size\n",
        "    dim3 gridDim((N + blockDim.x - 1) / blockDim.x, (N + blockDim.y - 1) / blockDim.y);\n",
        "\n",
        "    // Launch kernel to perform matrix multiplication\n",
        "    matrixMultiplication<<<gridDim, blockDim>>>(d_A, d_B, d_C);\n",
        "    cudaDeviceSynchronize();\n",
        "\n",
        "    // Copy result matrix C from device to host\n",
        "    cudaStatus = cudaMemcpy(C, d_C, size, cudaMemcpyDeviceToHost);\n",
        "    if (cudaStatus != cudaSuccess) {\n",
        "    fprintf(stderr, \"cudaMemcpy failed for result matrix C: %s\\n\", cudaGetErrorString(cudaStatus));\n",
        "    exit(EXIT_FAILURE);\n",
        "    }\n",
        "\n",
        "    bool flag=1;\n",
        "\n",
        "    for(int i=0;i<N && flag;i++){\n",
        "      for(int j=0;j<N && flag;j++){\n",
        "        int temp=0;\n",
        "        for(int k=0;k<N;k++){\n",
        "          temp+=(A[i*N+k]*B[k*N+j]);\n",
        "        }\n",
        "        if(temp!=C[i*N+j]){\n",
        "          flag=0;\n",
        "        }\n",
        "      }\n",
        "    }\n",
        "\n",
        "    if(flag) printf(\"Multiplication is correctly performed by GPU.\");\n",
        "    else printf(\"Multiplication operation failed!!!\");\n",
        "\n",
        "\n",
        "    // Free device memory\n",
        "    cudaFree(d_A);\n",
        "    cudaFree(d_B);\n",
        "    cudaFree(d_C);\n",
        "\n",
        "    // Free host memory\n",
        "    free(A);\n",
        "    free(B);\n",
        "    free(C);\n",
        "\n",
        "    return 0;\n",
        "}"
      ]
    },
    {
      "cell_type": "code",
      "source": [
        "!nvcc matrixMul.cu -o matrixMul"
      ],
      "metadata": {
        "id": "TuJTRn8QJ14S"
      },
      "execution_count": 5,
      "outputs": []
    },
    {
      "cell_type": "code",
      "source": [
        "!./matrixMul"
      ],
      "metadata": {
        "colab": {
          "base_uri": "https://localhost:8080/"
        },
        "id": "Y4lix1zAJ2la",
        "outputId": "52f9cd30-bdf7-4ea5-9bda-002faee00eb5"
      },
      "execution_count": 6,
      "outputs": [
        {
          "output_type": "stream",
          "name": "stdout",
          "text": [
            "Multiplication is correctly performed by GPU."
          ]
        }
      ]
    },
    {
      "cell_type": "code",
      "source": [],
      "metadata": {
        "id": "Hqob5hovNJDd"
      },
      "execution_count": null,
      "outputs": []
    }
  ]
}